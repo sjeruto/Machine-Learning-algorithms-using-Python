{
  "nbformat": 4,
  "nbformat_minor": 0,
  "metadata": {
    "colab": {
      "name": "Trial_model2A.ipynb",
      "provenance": []
    },
    "kernelspec": {
      "name": "python3",
      "display_name": "Python 3"
    },
    "language_info": {
      "name": "python"
    }
  },
  "cells": [
    {
      "cell_type": "code",
      "source": [
        "# Install all our required packages\n",
        "!pip install yfinance\n",
        "#!pip install numpy \n",
        "#!pip install pandas \n",
        "#!pip install matplotlib \n",
        "#!pip install keras\n",
        "#!pip install seaborn\n",
        "#!pip install sklearn"
      ],
      "metadata": {
        "id": "Zv0W49JSShql"
      },
      "execution_count": null,
      "outputs": []
    },
    {
      "cell_type": "code",
      "source": [
        "#Importing the Libraries\n",
        "import pandas as PD\n",
        "import yfinance as yf\n",
        "import numpy as np\n",
        "%matplotlib inline\n",
        "import matplotlib. pyplot as plt\n",
        "import matplotlib\n",
        "from sklearn.preprocessing import MinMaxScaler\n",
        "from keras.layers import LSTM, Dense, Dropout\n",
        "from sklearn.model_selection import TimeSeriesSplit\n",
        "from sklearn.metrics import mean_squared_error, r2_score\n",
        "import matplotlib. dates as mandates\n",
        "from sklearn.preprocessing import MinMaxScaler\n",
        "from sklearn import linear_model\n",
        "from keras.models import Sequential\n",
        "from keras.layers import Dense\n",
        "import keras.backend as K\n",
        "from keras.callbacks import EarlyStopping\n",
        "from keras.optimizers import adam_v2\n",
        "from keras.models import load_model\n",
        "from keras.layers import LSTM\n",
        "from keras.utils.vis_utils import plot_model"
      ],
      "metadata": {
        "id": "nME86QHjb1-x"
      },
      "execution_count": null,
      "outputs": []
    },
    {
      "cell_type": "code",
      "execution_count": null,
      "metadata": {
        "colab": {
          "base_uri": "https://localhost:8080/",
          "height": 238
        },
        "id": "Zk8fi3xYE9Kb",
        "outputId": "f5d8b00c-284e-474c-ad22-ec79f98892e2"
      },
      "outputs": [
        {
          "output_type": "execute_result",
          "data": {
            "text/html": [
              "\n",
              "  <div id=\"df-efb12001-0456-4934-96c9-0d4f06af3d8f\">\n",
              "    <div class=\"colab-df-container\">\n",
              "      <div>\n",
              "<style scoped>\n",
              "    .dataframe tbody tr th:only-of-type {\n",
              "        vertical-align: middle;\n",
              "    }\n",
              "\n",
              "    .dataframe tbody tr th {\n",
              "        vertical-align: top;\n",
              "    }\n",
              "\n",
              "    .dataframe thead th {\n",
              "        text-align: right;\n",
              "    }\n",
              "</style>\n",
              "<table border=\"1\" class=\"dataframe\">\n",
              "  <thead>\n",
              "    <tr style=\"text-align: right;\">\n",
              "      <th></th>\n",
              "      <th>Open</th>\n",
              "      <th>High</th>\n",
              "      <th>Low</th>\n",
              "      <th>Close</th>\n",
              "      <th>Volume</th>\n",
              "      <th>Dividends</th>\n",
              "      <th>Stock Splits</th>\n",
              "    </tr>\n",
              "    <tr>\n",
              "      <th>Date</th>\n",
              "      <th></th>\n",
              "      <th></th>\n",
              "      <th></th>\n",
              "      <th></th>\n",
              "      <th></th>\n",
              "      <th></th>\n",
              "      <th></th>\n",
              "    </tr>\n",
              "  </thead>\n",
              "  <tbody>\n",
              "    <tr>\n",
              "      <th>2021-01-07</th>\n",
              "      <td>1208.078369</td>\n",
              "      <td>1282.579590</td>\n",
              "      <td>1167.443115</td>\n",
              "      <td>1225.678101</td>\n",
              "      <td>40468027280</td>\n",
              "      <td>0</td>\n",
              "      <td>0</td>\n",
              "    </tr>\n",
              "    <tr>\n",
              "      <th>2021-01-08</th>\n",
              "      <td>1225.967896</td>\n",
              "      <td>1273.827515</td>\n",
              "      <td>1076.081543</td>\n",
              "      <td>1224.197144</td>\n",
              "      <td>44334826666</td>\n",
              "      <td>0</td>\n",
              "      <td>0</td>\n",
              "    </tr>\n",
              "    <tr>\n",
              "      <th>2021-01-09</th>\n",
              "      <td>1223.740479</td>\n",
              "      <td>1303.871826</td>\n",
              "      <td>1182.270386</td>\n",
              "      <td>1281.077271</td>\n",
              "      <td>33233105361</td>\n",
              "      <td>0</td>\n",
              "      <td>0</td>\n",
              "    </tr>\n",
              "    <tr>\n",
              "      <th>2021-01-10</th>\n",
              "      <td>1280.871094</td>\n",
              "      <td>1347.926147</td>\n",
              "      <td>1194.715576</td>\n",
              "      <td>1262.246704</td>\n",
              "      <td>40616938053</td>\n",
              "      <td>0</td>\n",
              "      <td>0</td>\n",
              "    </tr>\n",
              "    <tr>\n",
              "      <th>2021-01-11</th>\n",
              "      <td>1261.622925</td>\n",
              "      <td>1261.622925</td>\n",
              "      <td>924.922607</td>\n",
              "      <td>1090.145386</td>\n",
              "      <td>60733630300</td>\n",
              "      <td>0</td>\n",
              "      <td>0</td>\n",
              "    </tr>\n",
              "  </tbody>\n",
              "</table>\n",
              "</div>\n",
              "      <button class=\"colab-df-convert\" onclick=\"convertToInteractive('df-efb12001-0456-4934-96c9-0d4f06af3d8f')\"\n",
              "              title=\"Convert this dataframe to an interactive table.\"\n",
              "              style=\"display:none;\">\n",
              "        \n",
              "  <svg xmlns=\"http://www.w3.org/2000/svg\" height=\"24px\"viewBox=\"0 0 24 24\"\n",
              "       width=\"24px\">\n",
              "    <path d=\"M0 0h24v24H0V0z\" fill=\"none\"/>\n",
              "    <path d=\"M18.56 5.44l.94 2.06.94-2.06 2.06-.94-2.06-.94-.94-2.06-.94 2.06-2.06.94zm-11 1L8.5 8.5l.94-2.06 2.06-.94-2.06-.94L8.5 2.5l-.94 2.06-2.06.94zm10 10l.94 2.06.94-2.06 2.06-.94-2.06-.94-.94-2.06-.94 2.06-2.06.94z\"/><path d=\"M17.41 7.96l-1.37-1.37c-.4-.4-.92-.59-1.43-.59-.52 0-1.04.2-1.43.59L10.3 9.45l-7.72 7.72c-.78.78-.78 2.05 0 2.83L4 21.41c.39.39.9.59 1.41.59.51 0 1.02-.2 1.41-.59l7.78-7.78 2.81-2.81c.8-.78.8-2.07 0-2.86zM5.41 20L4 18.59l7.72-7.72 1.47 1.35L5.41 20z\"/>\n",
              "  </svg>\n",
              "      </button>\n",
              "      \n",
              "  <style>\n",
              "    .colab-df-container {\n",
              "      display:flex;\n",
              "      flex-wrap:wrap;\n",
              "      gap: 12px;\n",
              "    }\n",
              "\n",
              "    .colab-df-convert {\n",
              "      background-color: #E8F0FE;\n",
              "      border: none;\n",
              "      border-radius: 50%;\n",
              "      cursor: pointer;\n",
              "      display: none;\n",
              "      fill: #1967D2;\n",
              "      height: 32px;\n",
              "      padding: 0 0 0 0;\n",
              "      width: 32px;\n",
              "    }\n",
              "\n",
              "    .colab-df-convert:hover {\n",
              "      background-color: #E2EBFA;\n",
              "      box-shadow: 0px 1px 2px rgba(60, 64, 67, 0.3), 0px 1px 3px 1px rgba(60, 64, 67, 0.15);\n",
              "      fill: #174EA6;\n",
              "    }\n",
              "\n",
              "    [theme=dark] .colab-df-convert {\n",
              "      background-color: #3B4455;\n",
              "      fill: #D2E3FC;\n",
              "    }\n",
              "\n",
              "    [theme=dark] .colab-df-convert:hover {\n",
              "      background-color: #434B5C;\n",
              "      box-shadow: 0px 1px 3px 1px rgba(0, 0, 0, 0.15);\n",
              "      filter: drop-shadow(0px 1px 2px rgba(0, 0, 0, 0.3));\n",
              "      fill: #FFFFFF;\n",
              "    }\n",
              "  </style>\n",
              "\n",
              "      <script>\n",
              "        const buttonEl =\n",
              "          document.querySelector('#df-efb12001-0456-4934-96c9-0d4f06af3d8f button.colab-df-convert');\n",
              "        buttonEl.style.display =\n",
              "          google.colab.kernel.accessAllowed ? 'block' : 'none';\n",
              "\n",
              "        async function convertToInteractive(key) {\n",
              "          const element = document.querySelector('#df-efb12001-0456-4934-96c9-0d4f06af3d8f');\n",
              "          const dataTable =\n",
              "            await google.colab.kernel.invokeFunction('convertToInteractive',\n",
              "                                                     [key], {});\n",
              "          if (!dataTable) return;\n",
              "\n",
              "          const docLinkHtml = 'Like what you see? Visit the ' +\n",
              "            '<a target=\"_blank\" href=https://colab.research.google.com/notebooks/data_table.ipynb>data table notebook</a>'\n",
              "            + ' to learn more about interactive tables.';\n",
              "          element.innerHTML = '';\n",
              "          dataTable['output_type'] = 'display_data';\n",
              "          await google.colab.output.renderOutput(dataTable, element);\n",
              "          const docLink = document.createElement('div');\n",
              "          docLink.innerHTML = docLinkHtml;\n",
              "          element.appendChild(docLink);\n",
              "        }\n",
              "      </script>\n",
              "    </div>\n",
              "  </div>\n",
              "  "
            ],
            "text/plain": [
              "                   Open         High  ...  Dividends  Stock Splits\n",
              "Date                                  ...                         \n",
              "2021-01-07  1208.078369  1282.579590  ...          0             0\n",
              "2021-01-08  1225.967896  1273.827515  ...          0             0\n",
              "2021-01-09  1223.740479  1303.871826  ...          0             0\n",
              "2021-01-10  1280.871094  1347.926147  ...          0             0\n",
              "2021-01-11  1261.622925  1261.622925  ...          0             0\n",
              "\n",
              "[5 rows x 7 columns]"
            ]
          },
          "metadata": {},
          "execution_count": 2
        }
      ],
      "source": [
        "# Pick ticker symbol of our stock\n",
        "tkr_str = 'ETH-USD'\n",
        "tkr = yf.Ticker(tkr_str)# Get stock history for the last 365 days\n",
        "df = tkr.history(period='365d')\n",
        "df.head()"
      ]
    },
    {
      "cell_type": "code",
      "source": [
        "# Reset the index so we can access the dates\n",
        "df.reset_index(inplace=True)\n",
        "df.head()"
      ],
      "metadata": {
        "colab": {
          "base_uri": "https://localhost:8080/",
          "height": 206
        },
        "id": "8Ox6BHDnFecd",
        "outputId": "d70fbfa1-c59a-4c4c-b102-8e68836dd8d3"
      },
      "execution_count": null,
      "outputs": [
        {
          "output_type": "execute_result",
          "data": {
            "text/html": [
              "\n",
              "  <div id=\"df-bc458df5-b844-4350-8635-47e884360271\">\n",
              "    <div class=\"colab-df-container\">\n",
              "      <div>\n",
              "<style scoped>\n",
              "    .dataframe tbody tr th:only-of-type {\n",
              "        vertical-align: middle;\n",
              "    }\n",
              "\n",
              "    .dataframe tbody tr th {\n",
              "        vertical-align: top;\n",
              "    }\n",
              "\n",
              "    .dataframe thead th {\n",
              "        text-align: right;\n",
              "    }\n",
              "</style>\n",
              "<table border=\"1\" class=\"dataframe\">\n",
              "  <thead>\n",
              "    <tr style=\"text-align: right;\">\n",
              "      <th></th>\n",
              "      <th>Date</th>\n",
              "      <th>Open</th>\n",
              "      <th>High</th>\n",
              "      <th>Low</th>\n",
              "      <th>Close</th>\n",
              "      <th>Volume</th>\n",
              "      <th>Dividends</th>\n",
              "      <th>Stock Splits</th>\n",
              "    </tr>\n",
              "  </thead>\n",
              "  <tbody>\n",
              "    <tr>\n",
              "      <th>0</th>\n",
              "      <td>2021-01-07</td>\n",
              "      <td>1208.078369</td>\n",
              "      <td>1282.579590</td>\n",
              "      <td>1167.443115</td>\n",
              "      <td>1225.678101</td>\n",
              "      <td>40468027280</td>\n",
              "      <td>0</td>\n",
              "      <td>0</td>\n",
              "    </tr>\n",
              "    <tr>\n",
              "      <th>1</th>\n",
              "      <td>2021-01-08</td>\n",
              "      <td>1225.967896</td>\n",
              "      <td>1273.827515</td>\n",
              "      <td>1076.081543</td>\n",
              "      <td>1224.197144</td>\n",
              "      <td>44334826666</td>\n",
              "      <td>0</td>\n",
              "      <td>0</td>\n",
              "    </tr>\n",
              "    <tr>\n",
              "      <th>2</th>\n",
              "      <td>2021-01-09</td>\n",
              "      <td>1223.740479</td>\n",
              "      <td>1303.871826</td>\n",
              "      <td>1182.270386</td>\n",
              "      <td>1281.077271</td>\n",
              "      <td>33233105361</td>\n",
              "      <td>0</td>\n",
              "      <td>0</td>\n",
              "    </tr>\n",
              "    <tr>\n",
              "      <th>3</th>\n",
              "      <td>2021-01-10</td>\n",
              "      <td>1280.871094</td>\n",
              "      <td>1347.926147</td>\n",
              "      <td>1194.715576</td>\n",
              "      <td>1262.246704</td>\n",
              "      <td>40616938053</td>\n",
              "      <td>0</td>\n",
              "      <td>0</td>\n",
              "    </tr>\n",
              "    <tr>\n",
              "      <th>4</th>\n",
              "      <td>2021-01-11</td>\n",
              "      <td>1261.622925</td>\n",
              "      <td>1261.622925</td>\n",
              "      <td>924.922607</td>\n",
              "      <td>1090.145386</td>\n",
              "      <td>60733630300</td>\n",
              "      <td>0</td>\n",
              "      <td>0</td>\n",
              "    </tr>\n",
              "  </tbody>\n",
              "</table>\n",
              "</div>\n",
              "      <button class=\"colab-df-convert\" onclick=\"convertToInteractive('df-bc458df5-b844-4350-8635-47e884360271')\"\n",
              "              title=\"Convert this dataframe to an interactive table.\"\n",
              "              style=\"display:none;\">\n",
              "        \n",
              "  <svg xmlns=\"http://www.w3.org/2000/svg\" height=\"24px\"viewBox=\"0 0 24 24\"\n",
              "       width=\"24px\">\n",
              "    <path d=\"M0 0h24v24H0V0z\" fill=\"none\"/>\n",
              "    <path d=\"M18.56 5.44l.94 2.06.94-2.06 2.06-.94-2.06-.94-.94-2.06-.94 2.06-2.06.94zm-11 1L8.5 8.5l.94-2.06 2.06-.94-2.06-.94L8.5 2.5l-.94 2.06-2.06.94zm10 10l.94 2.06.94-2.06 2.06-.94-2.06-.94-.94-2.06-.94 2.06-2.06.94z\"/><path d=\"M17.41 7.96l-1.37-1.37c-.4-.4-.92-.59-1.43-.59-.52 0-1.04.2-1.43.59L10.3 9.45l-7.72 7.72c-.78.78-.78 2.05 0 2.83L4 21.41c.39.39.9.59 1.41.59.51 0 1.02-.2 1.41-.59l7.78-7.78 2.81-2.81c.8-.78.8-2.07 0-2.86zM5.41 20L4 18.59l7.72-7.72 1.47 1.35L5.41 20z\"/>\n",
              "  </svg>\n",
              "      </button>\n",
              "      \n",
              "  <style>\n",
              "    .colab-df-container {\n",
              "      display:flex;\n",
              "      flex-wrap:wrap;\n",
              "      gap: 12px;\n",
              "    }\n",
              "\n",
              "    .colab-df-convert {\n",
              "      background-color: #E8F0FE;\n",
              "      border: none;\n",
              "      border-radius: 50%;\n",
              "      cursor: pointer;\n",
              "      display: none;\n",
              "      fill: #1967D2;\n",
              "      height: 32px;\n",
              "      padding: 0 0 0 0;\n",
              "      width: 32px;\n",
              "    }\n",
              "\n",
              "    .colab-df-convert:hover {\n",
              "      background-color: #E2EBFA;\n",
              "      box-shadow: 0px 1px 2px rgba(60, 64, 67, 0.3), 0px 1px 3px 1px rgba(60, 64, 67, 0.15);\n",
              "      fill: #174EA6;\n",
              "    }\n",
              "\n",
              "    [theme=dark] .colab-df-convert {\n",
              "      background-color: #3B4455;\n",
              "      fill: #D2E3FC;\n",
              "    }\n",
              "\n",
              "    [theme=dark] .colab-df-convert:hover {\n",
              "      background-color: #434B5C;\n",
              "      box-shadow: 0px 1px 3px 1px rgba(0, 0, 0, 0.15);\n",
              "      filter: drop-shadow(0px 1px 2px rgba(0, 0, 0, 0.3));\n",
              "      fill: #FFFFFF;\n",
              "    }\n",
              "  </style>\n",
              "\n",
              "      <script>\n",
              "        const buttonEl =\n",
              "          document.querySelector('#df-bc458df5-b844-4350-8635-47e884360271 button.colab-df-convert');\n",
              "        buttonEl.style.display =\n",
              "          google.colab.kernel.accessAllowed ? 'block' : 'none';\n",
              "\n",
              "        async function convertToInteractive(key) {\n",
              "          const element = document.querySelector('#df-bc458df5-b844-4350-8635-47e884360271');\n",
              "          const dataTable =\n",
              "            await google.colab.kernel.invokeFunction('convertToInteractive',\n",
              "                                                     [key], {});\n",
              "          if (!dataTable) return;\n",
              "\n",
              "          const docLinkHtml = 'Like what you see? Visit the ' +\n",
              "            '<a target=\"_blank\" href=https://colab.research.google.com/notebooks/data_table.ipynb>data table notebook</a>'\n",
              "            + ' to learn more about interactive tables.';\n",
              "          element.innerHTML = '';\n",
              "          dataTable['output_type'] = 'display_data';\n",
              "          await google.colab.output.renderOutput(dataTable, element);\n",
              "          const docLink = document.createElement('div');\n",
              "          docLink.innerHTML = docLinkHtml;\n",
              "          element.appendChild(docLink);\n",
              "        }\n",
              "      </script>\n",
              "    </div>\n",
              "  </div>\n",
              "  "
            ],
            "text/plain": [
              "        Date         Open         High  ...       Volume  Dividends  Stock Splits\n",
              "0 2021-01-07  1208.078369  1282.579590  ...  40468027280          0             0\n",
              "1 2021-01-08  1225.967896  1273.827515  ...  44334826666          0             0\n",
              "2 2021-01-09  1223.740479  1303.871826  ...  33233105361          0             0\n",
              "3 2021-01-10  1280.871094  1347.926147  ...  40616938053          0             0\n",
              "4 2021-01-11  1261.622925  1261.622925  ...  60733630300          0             0\n",
              "\n",
              "[5 rows x 8 columns]"
            ]
          },
          "metadata": {},
          "execution_count": 3
        }
      ]
    },
    {
      "cell_type": "code",
      "source": [
        "# Check the data type of each column\n",
        "df.dtypes "
      ],
      "metadata": {
        "colab": {
          "base_uri": "https://localhost:8080/"
        },
        "id": "LDfUgwr4FoV5",
        "outputId": "cdc1a3d0-ff02-4f14-f85d-c2b678c59b5b"
      },
      "execution_count": null,
      "outputs": [
        {
          "output_type": "execute_result",
          "data": {
            "text/plain": [
              "Date            datetime64[ns]\n",
              "Open                   float64\n",
              "High                   float64\n",
              "Low                    float64\n",
              "Close                  float64\n",
              "Volume                   int64\n",
              "Dividends                int64\n",
              "Stock Splits             int64\n",
              "dtype: object"
            ]
          },
          "metadata": {},
          "execution_count": 4
        }
      ]
    },
    {
      "cell_type": "code",
      "source": [
        "# Calculate elapsed days\n",
        "base_date = df['Date'][0]\n",
        "df['day_num'] = df['Date'].map(lambda date:(date - base_date).days)\n",
        "df.head()"
      ],
      "metadata": {
        "colab": {
          "base_uri": "https://localhost:8080/",
          "height": 206
        },
        "id": "A9KepOaXFtaN",
        "outputId": "1404fa82-4b9a-4b84-9a4e-139dd21e93e3"
      },
      "execution_count": null,
      "outputs": [
        {
          "output_type": "execute_result",
          "data": {
            "text/html": [
              "\n",
              "  <div id=\"df-4155c384-bfce-435a-9491-93f6c392294a\">\n",
              "    <div class=\"colab-df-container\">\n",
              "      <div>\n",
              "<style scoped>\n",
              "    .dataframe tbody tr th:only-of-type {\n",
              "        vertical-align: middle;\n",
              "    }\n",
              "\n",
              "    .dataframe tbody tr th {\n",
              "        vertical-align: top;\n",
              "    }\n",
              "\n",
              "    .dataframe thead th {\n",
              "        text-align: right;\n",
              "    }\n",
              "</style>\n",
              "<table border=\"1\" class=\"dataframe\">\n",
              "  <thead>\n",
              "    <tr style=\"text-align: right;\">\n",
              "      <th></th>\n",
              "      <th>Date</th>\n",
              "      <th>Open</th>\n",
              "      <th>High</th>\n",
              "      <th>Low</th>\n",
              "      <th>Close</th>\n",
              "      <th>Volume</th>\n",
              "      <th>Dividends</th>\n",
              "      <th>Stock Splits</th>\n",
              "      <th>day_num</th>\n",
              "    </tr>\n",
              "  </thead>\n",
              "  <tbody>\n",
              "    <tr>\n",
              "      <th>0</th>\n",
              "      <td>2021-01-07</td>\n",
              "      <td>1208.078369</td>\n",
              "      <td>1282.579590</td>\n",
              "      <td>1167.443115</td>\n",
              "      <td>1225.678101</td>\n",
              "      <td>40468027280</td>\n",
              "      <td>0</td>\n",
              "      <td>0</td>\n",
              "      <td>0</td>\n",
              "    </tr>\n",
              "    <tr>\n",
              "      <th>1</th>\n",
              "      <td>2021-01-08</td>\n",
              "      <td>1225.967896</td>\n",
              "      <td>1273.827515</td>\n",
              "      <td>1076.081543</td>\n",
              "      <td>1224.197144</td>\n",
              "      <td>44334826666</td>\n",
              "      <td>0</td>\n",
              "      <td>0</td>\n",
              "      <td>1</td>\n",
              "    </tr>\n",
              "    <tr>\n",
              "      <th>2</th>\n",
              "      <td>2021-01-09</td>\n",
              "      <td>1223.740479</td>\n",
              "      <td>1303.871826</td>\n",
              "      <td>1182.270386</td>\n",
              "      <td>1281.077271</td>\n",
              "      <td>33233105361</td>\n",
              "      <td>0</td>\n",
              "      <td>0</td>\n",
              "      <td>2</td>\n",
              "    </tr>\n",
              "    <tr>\n",
              "      <th>3</th>\n",
              "      <td>2021-01-10</td>\n",
              "      <td>1280.871094</td>\n",
              "      <td>1347.926147</td>\n",
              "      <td>1194.715576</td>\n",
              "      <td>1262.246704</td>\n",
              "      <td>40616938053</td>\n",
              "      <td>0</td>\n",
              "      <td>0</td>\n",
              "      <td>3</td>\n",
              "    </tr>\n",
              "    <tr>\n",
              "      <th>4</th>\n",
              "      <td>2021-01-11</td>\n",
              "      <td>1261.622925</td>\n",
              "      <td>1261.622925</td>\n",
              "      <td>924.922607</td>\n",
              "      <td>1090.145386</td>\n",
              "      <td>60733630300</td>\n",
              "      <td>0</td>\n",
              "      <td>0</td>\n",
              "      <td>4</td>\n",
              "    </tr>\n",
              "  </tbody>\n",
              "</table>\n",
              "</div>\n",
              "      <button class=\"colab-df-convert\" onclick=\"convertToInteractive('df-4155c384-bfce-435a-9491-93f6c392294a')\"\n",
              "              title=\"Convert this dataframe to an interactive table.\"\n",
              "              style=\"display:none;\">\n",
              "        \n",
              "  <svg xmlns=\"http://www.w3.org/2000/svg\" height=\"24px\"viewBox=\"0 0 24 24\"\n",
              "       width=\"24px\">\n",
              "    <path d=\"M0 0h24v24H0V0z\" fill=\"none\"/>\n",
              "    <path d=\"M18.56 5.44l.94 2.06.94-2.06 2.06-.94-2.06-.94-.94-2.06-.94 2.06-2.06.94zm-11 1L8.5 8.5l.94-2.06 2.06-.94-2.06-.94L8.5 2.5l-.94 2.06-2.06.94zm10 10l.94 2.06.94-2.06 2.06-.94-2.06-.94-.94-2.06-.94 2.06-2.06.94z\"/><path d=\"M17.41 7.96l-1.37-1.37c-.4-.4-.92-.59-1.43-.59-.52 0-1.04.2-1.43.59L10.3 9.45l-7.72 7.72c-.78.78-.78 2.05 0 2.83L4 21.41c.39.39.9.59 1.41.59.51 0 1.02-.2 1.41-.59l7.78-7.78 2.81-2.81c.8-.78.8-2.07 0-2.86zM5.41 20L4 18.59l7.72-7.72 1.47 1.35L5.41 20z\"/>\n",
              "  </svg>\n",
              "      </button>\n",
              "      \n",
              "  <style>\n",
              "    .colab-df-container {\n",
              "      display:flex;\n",
              "      flex-wrap:wrap;\n",
              "      gap: 12px;\n",
              "    }\n",
              "\n",
              "    .colab-df-convert {\n",
              "      background-color: #E8F0FE;\n",
              "      border: none;\n",
              "      border-radius: 50%;\n",
              "      cursor: pointer;\n",
              "      display: none;\n",
              "      fill: #1967D2;\n",
              "      height: 32px;\n",
              "      padding: 0 0 0 0;\n",
              "      width: 32px;\n",
              "    }\n",
              "\n",
              "    .colab-df-convert:hover {\n",
              "      background-color: #E2EBFA;\n",
              "      box-shadow: 0px 1px 2px rgba(60, 64, 67, 0.3), 0px 1px 3px 1px rgba(60, 64, 67, 0.15);\n",
              "      fill: #174EA6;\n",
              "    }\n",
              "\n",
              "    [theme=dark] .colab-df-convert {\n",
              "      background-color: #3B4455;\n",
              "      fill: #D2E3FC;\n",
              "    }\n",
              "\n",
              "    [theme=dark] .colab-df-convert:hover {\n",
              "      background-color: #434B5C;\n",
              "      box-shadow: 0px 1px 3px 1px rgba(0, 0, 0, 0.15);\n",
              "      filter: drop-shadow(0px 1px 2px rgba(0, 0, 0, 0.3));\n",
              "      fill: #FFFFFF;\n",
              "    }\n",
              "  </style>\n",
              "\n",
              "      <script>\n",
              "        const buttonEl =\n",
              "          document.querySelector('#df-4155c384-bfce-435a-9491-93f6c392294a button.colab-df-convert');\n",
              "        buttonEl.style.display =\n",
              "          google.colab.kernel.accessAllowed ? 'block' : 'none';\n",
              "\n",
              "        async function convertToInteractive(key) {\n",
              "          const element = document.querySelector('#df-4155c384-bfce-435a-9491-93f6c392294a');\n",
              "          const dataTable =\n",
              "            await google.colab.kernel.invokeFunction('convertToInteractive',\n",
              "                                                     [key], {});\n",
              "          if (!dataTable) return;\n",
              "\n",
              "          const docLinkHtml = 'Like what you see? Visit the ' +\n",
              "            '<a target=\"_blank\" href=https://colab.research.google.com/notebooks/data_table.ipynb>data table notebook</a>'\n",
              "            + ' to learn more about interactive tables.';\n",
              "          element.innerHTML = '';\n",
              "          dataTable['output_type'] = 'display_data';\n",
              "          await google.colab.output.renderOutput(dataTable, element);\n",
              "          const docLink = document.createElement('div');\n",
              "          docLink.innerHTML = docLinkHtml;\n",
              "          element.appendChild(docLink);\n",
              "        }\n",
              "      </script>\n",
              "    </div>\n",
              "  </div>\n",
              "  "
            ],
            "text/plain": [
              "        Date         Open         High  ...  Dividends  Stock Splits  day_num\n",
              "0 2021-01-07  1208.078369  1282.579590  ...          0             0        0\n",
              "1 2021-01-08  1225.967896  1273.827515  ...          0             0        1\n",
              "2 2021-01-09  1223.740479  1303.871826  ...          0             0        2\n",
              "3 2021-01-10  1280.871094  1347.926147  ...          0             0        3\n",
              "4 2021-01-11  1261.622925  1261.622925  ...          0             0        4\n",
              "\n",
              "[5 rows x 9 columns]"
            ]
          },
          "metadata": {},
          "execution_count": 5
        }
      ]
    },
    {
      "cell_type": "code",
      "source": [
        "#Print the shape of Dataframe  and Check for Null Values\n",
        "print(\"Dataframe Shape:\", df. shape)\n",
        "print(\"Null Value Present:\", df.isnull().values.any())\n"
      ],
      "metadata": {
        "colab": {
          "base_uri": "https://localhost:8080/"
        },
        "id": "brPIKFdPZ_dq",
        "outputId": "3e66197b-f9f7-4872-ce70-190437cd6032"
      },
      "execution_count": null,
      "outputs": [
        {
          "output_type": "stream",
          "name": "stdout",
          "text": [
            "Dataframe Shape: (365, 9)\n",
            "Null Value Present: False\n"
          ]
        }
      ]
    },
    {
      "cell_type": "markdown",
      "source": [
        "The  Close Value is the *final output  value that will be forecasted using the Machine Learning model.\n",
        " This figure indicates the stock’s closing price on that particular day of stock market trading."
      ],
      "metadata": {
        "id": "Sd0rgbRuucB4"
      }
    },
    {
      "cell_type": "code",
      "source": [
        "#Plot the True Close Value\n",
        "df['Close'].plot()"
      ],
      "metadata": {
        "id": "DAjbaWs1F_df",
        "colab": {
          "base_uri": "https://localhost:8080/",
          "height": 286
        },
        "outputId": "5a1d2729-1133-4155-c9fb-f92bf701db0d"
      },
      "execution_count": null,
      "outputs": [
        {
          "output_type": "execute_result",
          "data": {
            "text/plain": [
              "<matplotlib.axes._subplots.AxesSubplot at 0x7f1c947a1990>"
            ]
          },
          "metadata": {},
          "execution_count": 7
        },
        {
          "output_type": "display_data",
          "data": {
            "image/png": "[encoded data removed]",
            "text/plain": [
              "<Figure size 432x288 with 1 Axes>"
            ]
          },
          "metadata": {
            "needs_background": "light"
          }
        }
      ]
    },
    {
      "cell_type": "code",
      "source": [
        "#import pandas as pd\n",
        "\n",
        "#Set Target Variable\n",
        "output_var = pd.DataFrame(df['Close'])\n",
        "#Selecting the Features\n",
        "features = ['Open', 'High', 'Low', 'Volume']"
      ],
      "metadata": {
        "id": "Jqr8qjHtF_mv"
      },
      "execution_count": null,
      "outputs": []
    },
    {
      "cell_type": "markdown",
      "source": [
        "**Scaling**\n",
        "\n",
        "*To decrease the computational cost of the data in the table, we will scale the stock values to values between 0 and 1.* \n"
      ],
      "metadata": {
        "id": "vbX6YKWKY2_A"
      }
    },
    {
      "cell_type": "code",
      "source": [
        "#Scaling\n",
        "scaler = MinMaxScaler()\n",
        "feature_transform = scaler.fit_transform(df[features])\n",
        "feature_transform= pd.DataFrame(columns=features, data=feature_transform, index=df.index)\n",
        "feature_transform.head()"
      ],
      "metadata": {
        "id": "kNWPZox-YkFC",
        "colab": {
          "base_uri": "https://localhost:8080/",
          "height": 206
        },
        "outputId": "4ce45bb7-3ae9-4296-fb7a-a1c0788b3d38"
      },
      "execution_count": null,
      "outputs": [
        {
          "output_type": "execute_result",
          "data": {
            "text/html": [
              "\n",
              "  <div id=\"df-e7c9d394-264c-46bd-8264-cf5f020683c8\">\n",
              "    <div class=\"colab-df-container\">\n",
              "      <div>\n",
              "<style scoped>\n",
              "    .dataframe tbody tr th:only-of-type {\n",
              "        vertical-align: middle;\n",
              "    }\n",
              "\n",
              "    .dataframe tbody tr th {\n",
              "        vertical-align: top;\n",
              "    }\n",
              "\n",
              "    .dataframe thead th {\n",
              "        text-align: right;\n",
              "    }\n",
              "</style>\n",
              "<table border=\"1\" class=\"dataframe\">\n",
              "  <thead>\n",
              "    <tr style=\"text-align: right;\">\n",
              "      <th></th>\n",
              "      <th>Open</th>\n",
              "      <th>High</th>\n",
              "      <th>Low</th>\n",
              "      <th>Volume</th>\n",
              "    </tr>\n",
              "  </thead>\n",
              "  <tbody>\n",
              "    <tr>\n",
              "      <th>0</th>\n",
              "      <td>0.043633</td>\n",
              "      <td>0.039453</td>\n",
              "      <td>0.063937</td>\n",
              "      <td>0.410831</td>\n",
              "    </tr>\n",
              "    <tr>\n",
              "      <th>1</th>\n",
              "      <td>0.048383</td>\n",
              "      <td>0.037124</td>\n",
              "      <td>0.039851</td>\n",
              "      <td>0.462591</td>\n",
              "    </tr>\n",
              "    <tr>\n",
              "      <th>2</th>\n",
              "      <td>0.047792</td>\n",
              "      <td>0.045120</td>\n",
              "      <td>0.067846</td>\n",
              "      <td>0.313987</td>\n",
              "    </tr>\n",
              "    <tr>\n",
              "      <th>3</th>\n",
              "      <td>0.062961</td>\n",
              "      <td>0.056845</td>\n",
              "      <td>0.071127</td>\n",
              "      <td>0.412824</td>\n",
              "    </tr>\n",
              "    <tr>\n",
              "      <th>4</th>\n",
              "      <td>0.057850</td>\n",
              "      <td>0.033876</td>\n",
              "      <td>0.000000</td>\n",
              "      <td>0.682100</td>\n",
              "    </tr>\n",
              "  </tbody>\n",
              "</table>\n",
              "</div>\n",
              "      <button class=\"colab-df-convert\" onclick=\"convertToInteractive('df-e7c9d394-264c-46bd-8264-cf5f020683c8')\"\n",
              "              title=\"Convert this dataframe to an interactive table.\"\n",
              "              style=\"display:none;\">\n",
              "        \n",
              "  <svg xmlns=\"http://www.w3.org/2000/svg\" height=\"24px\"viewBox=\"0 0 24 24\"\n",
              "       width=\"24px\">\n",
              "    <path d=\"M0 0h24v24H0V0z\" fill=\"none\"/>\n",
              "    <path d=\"M18.56 5.44l.94 2.06.94-2.06 2.06-.94-2.06-.94-.94-2.06-.94 2.06-2.06.94zm-11 1L8.5 8.5l.94-2.06 2.06-.94-2.06-.94L8.5 2.5l-.94 2.06-2.06.94zm10 10l.94 2.06.94-2.06 2.06-.94-2.06-.94-.94-2.06-.94 2.06-2.06.94z\"/><path d=\"M17.41 7.96l-1.37-1.37c-.4-.4-.92-.59-1.43-.59-.52 0-1.04.2-1.43.59L10.3 9.45l-7.72 7.72c-.78.78-.78 2.05 0 2.83L4 21.41c.39.39.9.59 1.41.59.51 0 1.02-.2 1.41-.59l7.78-7.78 2.81-2.81c.8-.78.8-2.07 0-2.86zM5.41 20L4 18.59l7.72-7.72 1.47 1.35L5.41 20z\"/>\n",
              "  </svg>\n",
              "      </button>\n",
              "      \n",
              "  <style>\n",
              "    .colab-df-container {\n",
              "      display:flex;\n",
              "      flex-wrap:wrap;\n",
              "      gap: 12px;\n",
              "    }\n",
              "\n",
              "    .colab-df-convert {\n",
              "      background-color: #E8F0FE;\n",
              "      border: none;\n",
              "      border-radius: 50%;\n",
              "      cursor: pointer;\n",
              "      display: none;\n",
              "      fill: #1967D2;\n",
              "      height: 32px;\n",
              "      padding: 0 0 0 0;\n",
              "      width: 32px;\n",
              "    }\n",
              "\n",
              "    .colab-df-convert:hover {\n",
              "      background-color: #E2EBFA;\n",
              "      box-shadow: 0px 1px 2px rgba(60, 64, 67, 0.3), 0px 1px 3px 1px rgba(60, 64, 67, 0.15);\n",
              "      fill: #174EA6;\n",
              "    }\n",
              "\n",
              "    [theme=dark] .colab-df-convert {\n",
              "      background-color: #3B4455;\n",
              "      fill: #D2E3FC;\n",
              "    }\n",
              "\n",
              "    [theme=dark] .colab-df-convert:hover {\n",
              "      background-color: #434B5C;\n",
              "      box-shadow: 0px 1px 3px 1px rgba(0, 0, 0, 0.15);\n",
              "      filter: drop-shadow(0px 1px 2px rgba(0, 0, 0, 0.3));\n",
              "      fill: #FFFFFF;\n",
              "    }\n",
              "  </style>\n",
              "\n",
              "      <script>\n",
              "        const buttonEl =\n",
              "          document.querySelector('#df-e7c9d394-264c-46bd-8264-cf5f020683c8 button.colab-df-convert');\n",
              "        buttonEl.style.display =\n",
              "          google.colab.kernel.accessAllowed ? 'block' : 'none';\n",
              "\n",
              "        async function convertToInteractive(key) {\n",
              "          const element = document.querySelector('#df-e7c9d394-264c-46bd-8264-cf5f020683c8');\n",
              "          const dataTable =\n",
              "            await google.colab.kernel.invokeFunction('convertToInteractive',\n",
              "                                                     [key], {});\n",
              "          if (!dataTable) return;\n",
              "\n",
              "          const docLinkHtml = 'Like what you see? Visit the ' +\n",
              "            '<a target=\"_blank\" href=https://colab.research.google.com/notebooks/data_table.ipynb>data table notebook</a>'\n",
              "            + ' to learn more about interactive tables.';\n",
              "          element.innerHTML = '';\n",
              "          dataTable['output_type'] = 'display_data';\n",
              "          await google.colab.output.renderOutput(dataTable, element);\n",
              "          const docLink = document.createElement('div');\n",
              "          docLink.innerHTML = docLinkHtml;\n",
              "          element.appendChild(docLink);\n",
              "        }\n",
              "      </script>\n",
              "    </div>\n",
              "  </div>\n",
              "  "
            ],
            "text/plain": [
              "       Open      High       Low    Volume\n",
              "0  0.043633  0.039453  0.063937  0.410831\n",
              "1  0.048383  0.037124  0.039851  0.462591\n",
              "2  0.047792  0.045120  0.067846  0.313987\n",
              "3  0.062961  0.056845  0.071127  0.412824\n",
              "4  0.057850  0.033876  0.000000  0.682100"
            ]
          },
          "metadata": {},
          "execution_count": 13
        }
      ]
    },
    {
      "cell_type": "markdown",
      "source": [
        "**Creating a Training Set and a Test Set for Crypto Market Prediction**\n",
        "\n",
        "The LSTM model will be trained on the data in the training set and tested for accuracy and backpropagation on the test set.\n",
        "\n",
        "We use 80% on training data, 10% validation set and 10% on test data\n"
      ],
      "metadata": {
        "id": "_nPVlalyZfpE"
      }
    },
    {
      "cell_type": "code",
      "source": [
        "#Splitting to Training set and Test set\n",
        "timesplit= TimeSeriesSplit(n_splits=20)\n",
        "for train_index, test_index in timesplit.split(feature_transform):\n",
        "        X_train, X_test = feature_transform[:len(train_index)], feature_transform[len(train_index): (len(train_index)+len(test_index))]\n",
        "        y_train, y_test = output_var[:len(train_index)].values.ravel(), output_var[len(train_index): (len(train_index)+len(test_index))].values.ravel()\n"
      ],
      "metadata": {
        "id": "vhw0fr_QY2J9"
      },
      "execution_count": null,
      "outputs": []
    },
    {
      "cell_type": "code",
      "source": [
        "#!pip install sklearn\n",
        "#from sklearn.cross_validation import train_test_split\n",
        "from sklearn.model_selection import train_test_split"
      ],
      "metadata": {
        "id": "l0OHbIIWjm18"
      },
      "execution_count": null,
      "outputs": []
    },
    {
      "cell_type": "code",
      "source": [
        "#extract features and target variables\n",
        "x = df.drop(columns=\"Close\")\n",
        "y = df[\"Close\"]\n",
        "\n",
        "# Defines ratios, w.r.t. whole dataset.\n",
        "ratio_train = 0.8\n",
        "ratio_val = 0.1\n",
        "ratio_test = 0.1\n",
        "\n",
        "# Produces test split.\n",
        "x_remaining, x_test, y_remaining, y_test = train_test_split(\n",
        "    x, y, test_size=ratio_test)\n",
        "\n",
        "# Adjusts val ratio, w.r.t. remaining dataset.\n",
        "ratio_remaining = 1 - ratio_test\n",
        "ratio_val_adjusted = ratio_val / ratio_remaining\n",
        "\n",
        "# Produces train and val splits.\n",
        "x_train, x_val, y_train, y_val = train_test_split(\n",
        "    x_remaining, y_remaining, test_size=ratio_val_adjusted)"
      ],
      "metadata": {
        "id": "xNIgOF5Wgueo"
      },
      "execution_count": null,
      "outputs": []
    },
    {
      "cell_type": "markdown",
      "source": [
        "Data preparation\n",
        "\n",
        "We define a function which creates X inputs and Y labels for our model. In the sequential forecasting, we predict the future value based on some previous and current values. So, our Y label is the value from the next (future) point of time while the X inputs are one or several values from the past. The amount of these values we can set by tuning the parameter look_back in our function. If we set it to 1, this means that we predict current value t based on the previous value (t-1).\n",
        "\n",
        "\n",
        "\n"
      ],
      "metadata": {
        "id": "FQzC0zVr3eSj"
      }
    },
    {
      "cell_type": "markdown",
      "source": [
        "**Data Processing For LSTM**\n",
        "\n",
        "The LSTM needs that the data to be provided in the 3D form, we first transform the training and test data to NumPy arrays and then restructure them to match into the format (Number of Samples, 1, Number of Features).The test set is reshaped.\n",
        "\n",
        "\n"
      ],
      "metadata": {
        "id": "3zZl6xPgaC7U"
      }
    },
    {
      "cell_type": "code",
      "source": [
        "#Process the data for LSTM\n",
        "trainX =np.array(X_train)\n",
        "testX =np.array(X_test)\n",
        "X_train = trainX.reshape(X_train.shape[0], 1, X_train.shape[1])\n",
        "train=trainX.reshape(X_train.shape[0], 1, X_train.shape[1])\n",
        "\n",
        "X_test = testX.reshape(X_test.shape[0], 1, X_test.shape[1])\n",
        "test = testX.reshape(X_test.shape[0], 1, X_test.shape[1])\n"
      ],
      "metadata": {
        "id": "TfSDxD75dqC7"
      },
      "execution_count": null,
      "outputs": []
    },
    {
      "cell_type": "markdown",
      "source": [
        "Building the LSTM Model for Prediction\n",
        "\n",
        " We build a Sequential Keras model with one LSTM layer. The LSTM layer has 32 units and is followed by one Dense Layer of one neuron.\n",
        "\n",
        "We compile the model using Adam Optimizer and the Mean Squared Error as the loss function. For an LSTM model, this is the most preferred combination. "
      ],
      "metadata": {
        "id": "Adf3YaSzaOjM"
      }
    },
    {
      "cell_type": "code",
      "source": [
        "#Building the LSTM Model\n",
        "lstm = Sequential()\n",
        "lstm.add(LSTM(32, input_shape=(1, trainX.shape[1]), activation='relu', return_sequences=False))\n",
        "lstm.add(Dense(1))\n",
        "lstm.compile(loss='mean_squared_error', optimizer='adam')\n",
        "plot_model(lstm, show_shapes=True, show_layer_names=True)"
      ],
      "metadata": {
        "id": "zbEZlWyAaB8G",
        "colab": {
          "base_uri": "https://localhost:8080/",
          "height": 312
        },
        "outputId": "e4a27fb0-4753-4470-e8bb-87f65781e6d7"
      },
      "execution_count": null,
      "outputs": [
        {
          "output_type": "execute_result",
          "data": {
            "image/png": "[encoded data removed]",
            "text/plain": [
              "<IPython.core.display.Image object>"
            ]
          },
          "metadata": {},
          "execution_count": 95
        }
      ]
    },
    {
      "cell_type": "markdown",
      "source": [
        "LSTM Prediction\n",
        "\n",
        "we use the fit function to train the LSTM model created above on the training data for 100 epochs with a batch size of 8.\n",
        "\n"
      ],
      "metadata": {
        "id": "lJu2By16au7F"
      }
    },
    {
      "cell_type": "code",
      "source": [
        "#Model Training\n",
        "history=lstm.fit(X_train, y_train, epochs=100, batch_size=8, verbose=1, shuffle=False)\n"
      ],
      "metadata": {
        "id": "nQ7zqTL0z5bl",
        "colab": {
          "base_uri": "https://localhost:8080/"
        },
        "outputId": "4853c6d8-2e56-4271-b08b-c5eaef771b81"
      },
      "execution_count": null,
      "outputs": [
        {
          "output_type": "stream",
          "name": "stdout",
          "text": [
            "Epoch 1/100\n",
            "42/42 [==============================] - 2s 3ms/step - loss: 8314218.5000\n",
            "Epoch 2/100\n",
            "42/42 [==============================] - 0s 3ms/step - loss: 8313270.0000\n",
            "Epoch 3/100\n",
            "42/42 [==============================] - 0s 3ms/step - loss: 8311699.5000\n",
            "Epoch 4/100\n",
            "42/42 [==============================] - 0s 3ms/step - loss: 8309374.5000\n",
            "Epoch 5/100\n",
            "42/42 [==============================] - 0s 3ms/step - loss: 8306062.5000\n",
            "Epoch 6/100\n",
            "42/42 [==============================] - 0s 3ms/step - loss: 8301555.5000\n",
            "Epoch 7/100\n",
            "42/42 [==============================] - 0s 3ms/step - loss: 8295698.5000\n",
            "Epoch 8/100\n",
            "42/42 [==============================] - 0s 3ms/step - loss: 8288398.0000\n",
            "Epoch 9/100\n",
            "42/42 [==============================] - 0s 5ms/step - loss: 8279617.0000\n",
            "Epoch 10/100\n",
            "42/42 [==============================] - 0s 5ms/step - loss: 8269363.5000\n",
            "Epoch 11/100\n",
            "42/42 [==============================] - 0s 4ms/step - loss: 8257686.5000\n",
            "Epoch 12/100\n",
            "42/42 [==============================] - 0s 4ms/step - loss: 8244648.0000\n",
            "Epoch 13/100\n",
            "42/42 [==============================] - 0s 4ms/step - loss: 8230327.5000\n",
            "Epoch 14/100\n",
            "42/42 [==============================] - 0s 3ms/step - loss: 8214802.5000\n",
            "Epoch 15/100\n",
            "42/42 [==============================] - 0s 3ms/step - loss: 8198148.0000\n",
            "Epoch 16/100\n",
            "42/42 [==============================] - 0s 3ms/step - loss: 8180433.0000\n",
            "Epoch 17/100\n",
            "42/42 [==============================] - 0s 3ms/step - loss: 8161721.0000\n",
            "Epoch 18/100\n",
            "42/42 [==============================] - 0s 3ms/step - loss: 8142070.0000\n",
            "Epoch 19/100\n",
            "42/42 [==============================] - 0s 3ms/step - loss: 8121527.5000\n",
            "Epoch 20/100\n",
            "42/42 [==============================] - 0s 3ms/step - loss: 8100136.0000\n",
            "Epoch 21/100\n",
            "42/42 [==============================] - 0s 3ms/step - loss: 8077939.0000\n",
            "Epoch 22/100\n",
            "42/42 [==============================] - 0s 2ms/step - loss: 8054966.0000\n",
            "Epoch 23/100\n",
            "42/42 [==============================] - 0s 2ms/step - loss: 8031250.5000\n",
            "Epoch 24/100\n",
            "42/42 [==============================] - 0s 3ms/step - loss: 8006818.5000\n",
            "Epoch 25/100\n",
            "42/42 [==============================] - 0s 3ms/step - loss: 7981693.0000\n",
            "Epoch 26/100\n",
            "42/42 [==============================] - 0s 3ms/step - loss: 7955897.0000\n",
            "Epoch 27/100\n",
            "42/42 [==============================] - 0s 2ms/step - loss: 7929451.0000\n",
            "Epoch 28/100\n",
            "42/42 [==============================] - 0s 3ms/step - loss: 7902376.0000\n",
            "Epoch 29/100\n",
            "42/42 [==============================] - 0s 3ms/step - loss: 7874685.0000\n",
            "Epoch 30/100\n",
            "42/42 [==============================] - 0s 3ms/step - loss: 7846397.5000\n",
            "Epoch 31/100\n",
            "42/42 [==============================] - 0s 3ms/step - loss: 7817527.5000\n",
            "Epoch 32/100\n",
            "42/42 [==============================] - 0s 3ms/step - loss: 7788088.5000\n",
            "Epoch 33/100\n",
            "42/42 [==============================] - 0s 3ms/step - loss: 7758094.5000\n",
            "Epoch 34/100\n",
            "42/42 [==============================] - 0s 3ms/step - loss: 7727561.5000\n",
            "Epoch 35/100\n",
            "42/42 [==============================] - 0s 3ms/step - loss: 7696499.5000\n",
            "Epoch 36/100\n",
            "42/42 [==============================] - 0s 3ms/step - loss: 7664920.0000\n",
            "Epoch 37/100\n",
            "42/42 [==============================] - 0s 3ms/step - loss: 7632836.0000\n",
            "Epoch 38/100\n",
            "42/42 [==============================] - 0s 3ms/step - loss: 7600259.0000\n",
            "Epoch 39/100\n",
            "42/42 [==============================] - 0s 4ms/step - loss: 7567199.5000\n",
            "Epoch 40/100\n",
            "42/42 [==============================] - 0s 3ms/step - loss: 7533670.0000\n",
            "Epoch 41/100\n",
            "42/42 [==============================] - 0s 4ms/step - loss: 7499676.5000\n",
            "Epoch 42/100\n",
            "42/42 [==============================] - 0s 4ms/step - loss: 7465235.5000\n",
            "Epoch 43/100\n",
            "42/42 [==============================] - 0s 4ms/step - loss: 7430353.0000\n",
            "Epoch 44/100\n",
            "42/42 [==============================] - 0s 4ms/step - loss: 7395040.5000\n",
            "Epoch 45/100\n",
            "42/42 [==============================] - 0s 3ms/step - loss: 7359306.0000\n",
            "Epoch 46/100\n",
            "42/42 [==============================] - 0s 4ms/step - loss: 7323161.5000\n",
            "Epoch 47/100\n",
            "42/42 [==============================] - 0s 4ms/step - loss: 7286615.0000\n",
            "Epoch 48/100\n",
            "42/42 [==============================] - 0s 4ms/step - loss: 7249676.5000\n",
            "Epoch 49/100\n",
            "42/42 [==============================] - 0s 4ms/step - loss: 7212355.0000\n",
            "Epoch 50/100\n",
            "42/42 [==============================] - 0s 4ms/step - loss: 7174659.0000\n",
            "Epoch 51/100\n",
            "42/42 [==============================] - 0s 4ms/step - loss: 7136597.5000\n",
            "Epoch 52/100\n",
            "42/42 [==============================] - 0s 5ms/step - loss: 7098180.0000\n",
            "Epoch 53/100\n",
            "42/42 [==============================] - 0s 4ms/step - loss: 7059414.5000\n",
            "Epoch 54/100\n",
            "42/42 [==============================] - 0s 4ms/step - loss: 7020309.5000\n",
            "Epoch 55/100\n",
            "42/42 [==============================] - 0s 5ms/step - loss: 6980874.0000\n",
            "Epoch 56/100\n",
            "42/42 [==============================] - 0s 4ms/step - loss: 6941116.0000\n",
            "Epoch 57/100\n",
            "42/42 [==============================] - 0s 3ms/step - loss: 6901044.5000\n",
            "Epoch 58/100\n",
            "42/42 [==============================] - 0s 3ms/step - loss: 6860666.0000\n",
            "Epoch 59/100\n",
            "42/42 [==============================] - 0s 3ms/step - loss: 6819989.5000\n",
            "Epoch 60/100\n",
            "42/42 [==============================] - 0s 2ms/step - loss: 6779023.5000\n",
            "Epoch 61/100\n",
            "42/42 [==============================] - 0s 3ms/step - loss: 6737774.5000\n",
            "Epoch 62/100\n",
            "42/42 [==============================] - 0s 3ms/step - loss: 6696252.0000\n",
            "Epoch 63/100\n",
            "42/42 [==============================] - 0s 3ms/step - loss: 6654461.0000\n",
            "Epoch 64/100\n",
            "42/42 [==============================] - 0s 3ms/step - loss: 6612413.0000\n",
            "Epoch 65/100\n",
            "42/42 [==============================] - 0s 4ms/step - loss: 6570113.0000\n",
            "Epoch 66/100\n",
            "42/42 [==============================] - 0s 4ms/step - loss: 6527568.0000\n",
            "Epoch 67/100\n",
            "42/42 [==============================] - 0s 3ms/step - loss: 6484786.0000\n",
            "Epoch 68/100\n",
            "42/42 [==============================] - 0s 4ms/step - loss: 6441777.0000\n",
            "Epoch 69/100\n",
            "42/42 [==============================] - 0s 4ms/step - loss: 6398544.5000\n",
            "Epoch 70/100\n",
            "42/42 [==============================] - 0s 4ms/step - loss: 6355098.0000\n",
            "Epoch 71/100\n",
            "42/42 [==============================] - 0s 4ms/step - loss: 6311443.5000\n",
            "Epoch 72/100\n",
            "42/42 [==============================] - 0s 4ms/step - loss: 6267588.5000\n",
            "Epoch 73/100\n",
            "42/42 [==============================] - 0s 3ms/step - loss: 6223539.5000\n",
            "Epoch 74/100\n",
            "42/42 [==============================] - 0s 3ms/step - loss: 6179303.5000\n",
            "Epoch 75/100\n",
            "42/42 [==============================] - 0s 3ms/step - loss: 6134887.0000\n",
            "Epoch 76/100\n",
            "42/42 [==============================] - 0s 3ms/step - loss: 6090299.5000\n",
            "Epoch 77/100\n",
            "42/42 [==============================] - 0s 4ms/step - loss: 6045545.0000\n",
            "Epoch 78/100\n",
            "42/42 [==============================] - 0s 3ms/step - loss: 6000629.5000\n",
            "Epoch 79/100\n",
            "42/42 [==============================] - 0s 3ms/step - loss: 5955561.5000\n",
            "Epoch 80/100\n",
            "42/42 [==============================] - 0s 3ms/step - loss: 5910348.5000\n",
            "Epoch 81/100\n",
            "42/42 [==============================] - 0s 3ms/step - loss: 5864994.5000\n",
            "Epoch 82/100\n",
            "42/42 [==============================] - 0s 3ms/step - loss: 5819505.5000\n",
            "Epoch 83/100\n",
            "42/42 [==============================] - 0s 3ms/step - loss: 5773892.0000\n",
            "Epoch 84/100\n",
            "42/42 [==============================] - 0s 3ms/step - loss: 5728158.5000\n",
            "Epoch 85/100\n",
            "42/42 [==============================] - 0s 3ms/step - loss: 5682310.0000\n",
            "Epoch 86/100\n",
            "42/42 [==============================] - 0s 4ms/step - loss: 5636352.5000\n",
            "Epoch 87/100\n",
            "42/42 [==============================] - 0s 4ms/step - loss: 5590293.0000\n",
            "Epoch 88/100\n",
            "42/42 [==============================] - 0s 4ms/step - loss: 5544140.0000\n",
            "Epoch 89/100\n",
            "42/42 [==============================] - 0s 4ms/step - loss: 5497895.5000\n",
            "Epoch 90/100\n",
            "42/42 [==============================] - 0s 3ms/step - loss: 5451569.5000\n",
            "Epoch 91/100\n",
            "42/42 [==============================] - 0s 4ms/step - loss: 5405166.0000\n",
            "Epoch 92/100\n",
            "42/42 [==============================] - 0s 3ms/step - loss: 5358690.5000\n",
            "Epoch 93/100\n",
            "42/42 [==============================] - 0s 3ms/step - loss: 5312150.5000\n",
            "Epoch 94/100\n",
            "42/42 [==============================] - 0s 3ms/step - loss: 5265553.0000\n",
            "Epoch 95/100\n",
            "42/42 [==============================] - 0s 3ms/step - loss: 5218900.5000\n",
            "Epoch 96/100\n",
            "42/42 [==============================] - 0s 3ms/step - loss: 5172201.5000\n",
            "Epoch 97/100\n",
            "42/42 [==============================] - 0s 3ms/step - loss: 5125460.0000\n",
            "Epoch 98/100\n",
            "42/42 [==============================] - 0s 3ms/step - loss: 5078683.5000\n",
            "Epoch 99/100\n",
            "42/42 [==============================] - 0s 3ms/step - loss: 5031878.0000\n",
            "Epoch 100/100\n",
            "42/42 [==============================] - 0s 2ms/step - loss: 4985048.0000\n"
          ]
        }
      ]
    },
    {
      "cell_type": "code",
      "source": [
        "#LSTM Prediction\n",
        "#we can use it to forecast the Close Value of the Etherium stock by using a model trained using the LSTM network on the test set. \n",
        "#This is accomplished by employing the simple predict function on the LSTM model that has been created."
      ],
      "metadata": {
        "id": "xL6NyigLawbj"
      },
      "execution_count": null,
      "outputs": []
    },
    {
      "cell_type": "code",
      "source": [
        "y_pred= lstm.predict(X_test)"
      ],
      "metadata": {
        "id": "fVtxtt1ikMlL"
      },
      "execution_count": null,
      "outputs": []
    },
    {
      "cell_type": "markdown",
      "source": [
        "Comparing Predicted vs True Close Value – LSTM\n",
        "\n",
        "Finally, now that we’ve projected the values for the test set, we can display the graph to compare both  Close’s true values and Close’s predicted value using the LSTM Machine Learning model.\n"
      ],
      "metadata": {
        "id": "rHdp625tbI-0"
      }
    },
    {
      "cell_type": "code",
      "source": [
        "#Predicted vs True Adj Close Value – LSTM\n",
        "plt.plot(y_test, label='True Value')\n",
        "plt.plot(y_pred, label='LSTM Value')\n",
        "plt.title(\"Prediction by LSTM\")\n",
        "plt.xlabel('Time Scale')\n",
        "plt.ylabel('Scaled USD')\n",
        "plt.legend()\n",
        "plt.show()"
      ],
      "metadata": {
        "id": "jmUCZgt_a_Ez",
        "colab": {
          "base_uri": "https://localhost:8080/",
          "height": 295
        },
        "outputId": "be62a1e9-f90e-4286-89b6-f03888c9ff50"
      },
      "execution_count": null,
      "outputs": [
        {
          "output_type": "display_data",
          "data": {
            "image/png": "[encoded data removed]",
            "text/plain": [
              "<Figure size 432x288 with 1 Axes>"
            ]
          },
          "metadata": {
            "needs_background": "light"
          }
        }
      ]
    },
    {
      "cell_type": "code",
      "source": [
        ""
      ],
      "metadata": {
        "id": "k7dnmmHlEgsK"
      },
      "execution_count": null,
      "outputs": []
    },
    {
      "cell_type": "code",
      "source": [
        ""
      ],
      "metadata": {
        "id": "EiiIrsJ9EhIM"
      },
      "execution_count": null,
      "outputs": []
    }
  ]
}